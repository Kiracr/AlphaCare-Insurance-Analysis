{
 "cells": [
  {
   "cell_type": "markdown",
   "metadata": {},
   "source": [
    "## Hypothesis Testing\n",
    "A statistical hypothesis test is a formal procedure used to determine whether there is enough evidence in a sample of data to infer that a certain condition is true for the entire population. It helps in making data-driven decisions.\n",
    "\n",
    "this notebook attempt to answer questions based on the distribution and relationships between different attributes in our dataset using Hypothesis Tests.\n",
    "\n",
    " The approach involves the following steps:\n",
    " - Define the null hypothesis(H₀) and the alternative hypothesis((H₁)).\n",
    " - Select a suitable statistical test along with the corresponding test statistic.\n",
    " - Choose a significance level α (commonly set at 0.05).\n",
    " - Compute the test statistic's value.\n",
    " - Calculate the probability of the test statistic \n",
    " - Compare the resulting probability with the predetermined significance level."
   ]
  },
  {
   "cell_type": "code",
   "execution_count": 1,
   "metadata": {},
   "outputs": [],
   "source": [
    "import pandas as pd \n",
    "import numpy as np\n"
   ]
  },
  {
   "cell_type": "code",
   "execution_count": 2,
   "metadata": {},
   "outputs": [],
   "source": [
    "import os\n",
    "import sys\n",
    "\n",
    "sys.path.append(\"../\")"
   ]
  },
  {
   "cell_type": "code",
   "execution_count": 3,
   "metadata": {},
   "outputs": [],
   "source": [
    "from scripts.hypothesis_testing import *"
   ]
  },
  {
   "cell_type": "code",
   "execution_count": 4,
   "metadata": {},
   "outputs": [
    {
     "name": "stderr",
     "output_type": "stream",
     "text": [
      "C:\\Users\\Suraphel\\AppData\\Local\\Temp\\ipykernel_22384\\1888194467.py:2: DtypeWarning: Columns (32) have mixed types. Specify dtype option on import or set low_memory=False.\n",
      "  df = pd.read_csv(\"../data/cleaned_insurance_data.csv\")\n"
     ]
    }
   ],
   "source": [
    "# import the cleaned dataset\n",
    "df = pd.read_csv(\"../data/cleaned_insurance_data.csv\")"
   ]
  },
  {
   "cell_type": "code",
   "execution_count": 7,
   "metadata": {},
   "outputs": [],
   "source": [
    "def print_test_results(result, risks):\n",
    "    if 'error' in result:\n",
    "        print(result['error'])\n",
    "    else:\n",
    "        print(f\"Test type: {result['test_type']}\")\n",
    "        print(f\"Statistic: {result['statistic']}\")\n",
    "        print(f\"p-value: {result['p_value']}\")\n",
    "        print(result['interpretation'])\n",
    "    print(f\"Risks:\\n{risks}\\n\")"
   ]
  },
  {
   "cell_type": "markdown",
   "metadata": {},
   "source": [
    "### 1. Test for risk differences across provinces\n",
    "\n",
    "- Null Hypothesis (H₀): There are no risk differences across provinces (interms of TotalPremium)\n",
    "- Alternative Hypothesis (H₁): There is risk differences across provinces"
   ]
  },
  {
   "cell_type": "code",
   "execution_count": 13,
   "metadata": {},
   "outputs": [
    {
     "name": "stdout",
     "output_type": "stream",
     "text": [
      "1. Testing for risk differences across provinces\n",
      "Test type: anova\n",
      "Statistic: 308.5343902463087\n",
      "p-value: 0.0\n",
      "Reject the null hypothesis (p-value: 0.0000). There is a significant difference.\n",
      "Risks:\n",
      "Province\n",
      "Eastern Cape     15.992497\n",
      "Free State       18.286325\n",
      "Gauteng          15.150832\n",
      "KwaZulu-Natal    15.545857\n",
      "Limpopo          17.632667\n",
      "Mpumalanga       13.831484\n",
      "North West       15.117804\n",
      "Northern Cape    15.119254\n",
      "Western Cape     12.857935\n",
      "Name: TotalPremium, dtype: float64\n",
      "\n"
     ]
    }
   ],
   "source": [
    " # Test for risk differences across provinces using anova test\n",
    "print(\"1. Testing for risk differences across provinces\")\n",
    "province_risks = calculate_risk(df, 'Province', 'TotalPremium')\n",
    "result = perform_statistical_test(df, 'Province', 'TotalPremium', 'anova')\n",
    "print_test_results(result,province_risks)"
   ]
  },
  {
   "cell_type": "code",
   "execution_count": 10,
   "metadata": {},
   "outputs": [
    {
     "name": "stdout",
     "output_type": "stream",
     "text": [
      "1. Testing for risk differences across provinces\n",
      "Test type: chi_square\n",
      "Statistic: 1675877.9839662637\n",
      "p-value: 0.0\n",
      "Reject the null hypothesis (p-value: 0.0000). There is a significant difference.\n",
      "Risks:\n",
      "Province\n",
      "Eastern Cape     15.992497\n",
      "Free State       18.286325\n",
      "Gauteng          15.150832\n",
      "KwaZulu-Natal    15.545857\n",
      "Limpopo          17.632667\n",
      "Mpumalanga       13.831484\n",
      "North West       15.117804\n",
      "Northern Cape    15.119254\n",
      "Western Cape     12.857935\n",
      "Name: TotalPremium, dtype: float64\n",
      "\n"
     ]
    }
   ],
   "source": [
    " # Test for risk differences across provinces using chi_square test\n",
    "print(\"1. Testing for risk differences across provinces\")\n",
    "province_risks = calculate_risk(df, 'Province', 'TotalPremium')\n",
    "result = perform_statistical_test(df, 'Province', 'TotalPremium', 'chi_square')\n",
    "print_test_results(result, province_risks)"
   ]
  },
  {
   "cell_type": "markdown",
   "metadata": {},
   "source": [
    "### 2. Test for risk differences between zip codes\n",
    "\n",
    "- Null Hypothesis (H₀): TThere are no risk differences between zip codes(interms of TotalPremium)\n",
    "- Alternative Hypothesis (H₁): There is risk differences between zip codes"
   ]
  },
  {
   "cell_type": "code",
   "execution_count": 11,
   "metadata": {},
   "outputs": [
    {
     "name": "stdout",
     "output_type": "stream",
     "text": [
      "2. Testing for risk differences between zipcodes\n",
      "Test type: anova\n",
      "Statistic: 45.97102609099751\n",
      "p-value: 0.0\n",
      "Reject the null hypothesis (p-value: 0.0000). There is a significant difference.\n",
      "Risks:\n",
      "PostalCode\n",
      "284     43.859649\n",
      "322     43.859649\n",
      "331     43.859649\n",
      "1807    43.859649\n",
      "2210    43.859649\n",
      "Name: TotalPremium, dtype: float64\n",
      "\n"
     ]
    }
   ],
   "source": [
    "#  Test for risk differences between zipcodes using anova test \n",
    "print(\"2. Testing for risk differences between zipcodes\")\n",
    "zipcode_risks = calculate_risk(df, 'PostalCode', 'TotalPremium')\n",
    "result = perform_statistical_test(df, 'PostalCode', 'TotalPremium', 'anova')\n",
    "print_test_results(result, zipcode_risks.nlargest(5))"
   ]
  },
  {
   "cell_type": "code",
   "execution_count": 16,
   "metadata": {},
   "outputs": [],
   "source": [
    "df['Margin'] = df['TotalPremium'] - df['TotalClaims']"
   ]
  },
  {
   "cell_type": "code",
   "execution_count": 14,
   "metadata": {},
   "outputs": [
    {
     "name": "stdout",
     "output_type": "stream",
     "text": [
      "2. Testing for risk differences between zipcodes\n",
      "Test type: chi_square\n",
      "Statistic: 143288895.37515512\n",
      "p-value: 0.0\n",
      "Reject the null hypothesis (p-value: 0.0000). There is a significant difference.\n",
      "Risks:\n",
      "PostalCode\n",
      "284     43.859649\n",
      "322     43.859649\n",
      "331     43.859649\n",
      "1807    43.859649\n",
      "2210    43.859649\n",
      "Name: TotalPremium, dtype: float64\n",
      "\n"
     ]
    }
   ],
   "source": [
    "#  Test for risk differences between zipcodes using chi_square test \n",
    "print(\"2. Testing for risk differences between zipcodes\")\n",
    "zipcode_risks = calculate_risk(df, 'PostalCode', 'TotalPremium')\n",
    "result = perform_statistical_test(df, 'PostalCode', 'TotalPremium', 'chi_square')\n",
    "print_test_results(result, zipcode_risks.nlargest(5))"
   ]
  },
  {
   "cell_type": "markdown",
   "metadata": {},
   "source": [
    "### 3. Test for margin (profit) differences between zip codes\n",
    "\n",
    "- Null Hypothesis (H₀): There are no significant margin (profit) difference between zip codes\n",
    "- Alternative Hypothesis (H₁): There is a significant margin (profit) difference between zip codes"
   ]
  },
  {
   "cell_type": "code",
   "execution_count": 17,
   "metadata": {},
   "outputs": [
    {
     "name": "stdout",
     "output_type": "stream",
     "text": [
      "3. Testing for margin differences between zip codes\n",
      "Test type: anova\n",
      "Statistic: 45.97102609099751\n",
      "p-value: 0.0\n",
      "Reject the null hypothesis (p-value: 0.0000). There is a significant difference.\n",
      "Risks:\n",
      "PostalCode\n",
      "2000    2.281240e+06\n",
      "122     6.682290e+05\n",
      "299     4.235489e+05\n",
      "7784    3.321872e+05\n",
      "2196    2.474567e+05\n",
      "dtype: float64\n",
      "\n"
     ]
    }
   ],
   "source": [
    "#  Test for margin (profit) differences between zip codes using anova test \n",
    "print(\"3. Testing for margin differences between zip codes\")\n",
    "zipcode_margins = calculate_margin(df, 'PostalCode')\n",
    "result = perform_statistical_test(df, 'PostalCode', 'Margin', 'anova')\n",
    "print_test_results(result, zipcode_margins.nlargest(5))"
   ]
  },
  {
   "cell_type": "code",
   "execution_count": 18,
   "metadata": {},
   "outputs": [
    {
     "name": "stdout",
     "output_type": "stream",
     "text": [
      "3. Testing for margin differences between zip codes\n",
      "Test type: chi_square\n",
      "Statistic: 143288895.37515512\n",
      "p-value: 0.0\n",
      "Reject the null hypothesis (p-value: 0.0000). There is a significant difference.\n",
      "Risks:\n",
      "PostalCode\n",
      "2000    2.281240e+06\n",
      "122     6.682290e+05\n",
      "299     4.235489e+05\n",
      "7784    3.321872e+05\n",
      "2196    2.474567e+05\n",
      "dtype: float64\n",
      "\n"
     ]
    }
   ],
   "source": [
    "#  Test for margin (profit) differences between zip codes using chi_square test \n",
    "print(\"3. Testing for margin differences between zip codes\")\n",
    "zipcode_margins = calculate_margin(df, 'PostalCode')\n",
    "result = perform_statistical_test(df, 'PostalCode', 'Margin', 'chi_square')\n",
    "print_test_results(result, zipcode_margins.nlargest(5))"
   ]
  },
  {
   "cell_type": "markdown",
   "metadata": {},
   "source": [
    "### 4. Test for risk differences between Women and Men\n",
    "\n",
    "- Null Hypothesis (H₀): There is no significant difference in risk between males and females (in terms of TotalPremium).\n",
    "- Alternative Hypothesis (H₁): There is a significant difference in risk between males and females."
   ]
  },
  {
   "cell_type": "code",
   "execution_count": 19,
   "metadata": {},
   "outputs": [
    {
     "name": "stdout",
     "output_type": "stream",
     "text": [
      "4. Testing for risk differences between Women and Men\n",
      "Test type: t_test\n",
      "Statistic: 7.670958551805413\n",
      "p-value: 1.7086864636026e-14\n",
      "Reject the null hypothesis (p-value: 0.0000). There is a significant difference.\n",
      "Risks:\n",
      "Gender\n",
      "Female    14.230912\n",
      "Male      14.910986\n",
      "Name: TotalPremium, dtype: float64\n",
      "\n"
     ]
    }
   ],
   "source": [
    "# 4. Test for risk differences between Women and Men\n",
    "print(\"4. Testing for risk differences between Women and Men\")\n",
    "\n",
    "filtered_df = df[df['Gender'].isin(['Male', 'Female'])]\n",
    "\n",
    "gender_risks = calculate_risk(filtered_df, 'Gender', 'TotalPremium')\n",
    "result = perform_statistical_test(filtered_df, 'Gender', 'TotalPremium', 't_test')\n",
    "print_test_results(result, gender_risks)"
   ]
  },
  {
   "cell_type": "code",
   "execution_count": null,
   "metadata": {},
   "outputs": [],
   "source": []
  }
 ],
 "metadata": {
  "kernelspec": {
   "display_name": "Python 3",
   "language": "python",
   "name": "python3"
  },
  "language_info": {
   "codemirror_mode": {
    "name": "ipython",
    "version": 3
   },
   "file_extension": ".py",
   "mimetype": "text/x-python",
   "name": "python",
   "nbconvert_exporter": "python",
   "pygments_lexer": "ipython3",
   "version": "3.13.1"
  }
 },
 "nbformat": 4,
 "nbformat_minor": 2
}
